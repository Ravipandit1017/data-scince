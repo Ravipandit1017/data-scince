{
 "cells": [
  {
   "cell_type": "code",
   "execution_count": 2,
   "id": "ab55cc72-433a-408b-bbb2-7b2b497f3b74",
   "metadata": {},
   "outputs": [
    {
     "name": "stdout",
     "output_type": "stream",
     "text": [
      "ravi\n"
     ]
    }
   ],
   "source": [
    "print(\"ravi\")"
   ]
  },
  {
   "cell_type": "code",
   "execution_count": 5,
   "id": "1c1cb6d3-310c-44f0-af86-d6f9262d09ce",
   "metadata": {},
   "outputs": [
    {
     "name": "stdout",
     "output_type": "stream",
     "text": [
      "world\n"
     ]
    }
   ],
   "source": [
    "print(\"world\")"
   ]
  },
  {
   "cell_type": "code",
   "execution_count": 1,
   "id": "519c1088-3e48-456f-9136-9d421fc3b697",
   "metadata": {},
   "outputs": [
    {
     "name": "stdout",
     "output_type": "stream",
     "text": [
      " mu name is ravi\n"
     ]
    }
   ],
   "source": [
    "print(\" mu name is ravi\")"
   ]
  },
  {
   "cell_type": "code",
   "execution_count": 2,
   "id": "b60e1ce3-3aec-43b1-b3d4-e1ec572cc30c",
   "metadata": {},
   "outputs": [
    {
     "ename": "NameError",
     "evalue": "name 'change' is not defined",
     "output_type": "error",
     "traceback": [
      "\u001b[1;31m---------------------------------------------------------------------------\u001b[0m",
      "\u001b[1;31mNameError\u001b[0m                                 Traceback (most recent call last)",
      "Cell \u001b[1;32mIn[2], line 1\u001b[0m\n\u001b[1;32m----> 1\u001b[0m change(\u001b[38;5;124m\"\u001b[39m\u001b[38;5;124mravi in plas of raj\u001b[39m\u001b[38;5;124m\"\u001b[39m)\n",
      "\u001b[1;31mNameError\u001b[0m: name 'change' is not defined"
     ]
    }
   ],
   "source": []
  },
  {
   "cell_type": "code",
   "execution_count": 3,
   "id": "0e37f8f1-37c1-481f-a1dc-daeab8554cb7",
   "metadata": {},
   "outputs": [
    {
     "data": {
      "text/plain": [
       "49"
      ]
     },
     "execution_count": 3,
     "metadata": {},
     "output_type": "execute_result"
    }
   ],
   "source": [
    "24+25"
   ]
  },
  {
   "cell_type": "code",
   "execution_count": null,
   "id": "fca73a9b-48d0-413b-bd53-8f7f83b329a7",
   "metadata": {},
   "outputs": [],
   "source": []
  },
  {
   "cell_type": "code",
   "execution_count": 4,
   "id": "0e01e040-d0e7-45c7-9472-16b4b1566311",
   "metadata": {},
   "outputs": [
    {
     "name": "stdout",
     "output_type": "stream",
     "text": [
      "x\n"
     ]
    }
   ],
   "source": [
    "x=5+5\n",
    "print(\"x\")"
   ]
  },
  {
   "cell_type": "markdown",
   "id": "64a09fc9-1dbd-4ca1-8d81-8a3c69948b6e",
   "metadata": {},
   "source": [
    "lov of my life is hear\n"
   ]
  },
  {
   "cell_type": "code",
   "execution_count": 6,
   "id": "f9288339-839f-426d-abe6-61ea5732e6d0",
   "metadata": {},
   "outputs": [
    {
     "ename": "SyntaxError",
     "evalue": "can't use starred expression here (2935808727.py, line 1)",
     "output_type": "error",
     "traceback": [
      "\u001b[1;36m  Cell \u001b[1;32mIn[6], line 1\u001b[1;36m\u001b[0m\n\u001b[1;33m    *hrp\u001b[0m\n\u001b[1;37m    ^\u001b[0m\n\u001b[1;31mSyntaxError\u001b[0m\u001b[1;31m:\u001b[0m can't use starred expression here\n"
     ]
    }
   ],
   "source": [
    "*hrp"
   ]
  },
  {
   "cell_type": "markdown",
   "id": "11a6e2a3-2e71-4a2e-ae04-571bb2ca9348",
   "metadata": {},
   "source": [
    "love"
   ]
  },
  {
   "cell_type": "code",
   "execution_count": 8,
   "id": "6ebfc17a-07b6-4524-ba7e-3c3d363a9435",
   "metadata": {},
   "outputs": [],
   "source": [
    "#hrp"
   ]
  },
  {
   "cell_type": "markdown",
   "id": "b5ef95fd-db40-4562-ba67-a2f461862f38",
   "metadata": {},
   "source": [
    "paython is K sensitiv langveg"
   ]
  },
  {
   "cell_type": "code",
   "execution_count": null,
   "id": "21746c7f-fbd0-4bde-a3ea-144642f9a6cd",
   "metadata": {},
   "outputs": [],
   "source": []
  }
 ],
 "metadata": {
  "kernelspec": {
   "display_name": "Python 3 (ipykernel)",
   "language": "python",
   "name": "python3"
  },
  "language_info": {
   "codemirror_mode": {
    "name": "ipython",
    "version": 3
   },
   "file_extension": ".py",
   "mimetype": "text/x-python",
   "name": "python",
   "nbconvert_exporter": "python",
   "pygments_lexer": "ipython3",
   "version": "3.11.7"
  }
 },
 "nbformat": 4,
 "nbformat_minor": 5
}
